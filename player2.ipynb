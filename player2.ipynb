{
 "cells": [
  {
   "cell_type": "code",
   "execution_count": 1,
   "id": "0a15b723-1f85-428b-a2f5-12b0996f4638",
   "metadata": {
    "ExecuteTime": {
     "end_time": "2023-11-25T20:35:11.072597Z",
     "start_time": "2023-11-25T20:35:11.002613Z"
    }
   },
   "outputs": [
    {
     "name": "stderr",
     "output_type": "stream",
     "text": [
      "/home/myid/zis35724/.local/lib/python3.10/site-packages/tqdm/auto.py:21: TqdmWarning: IProgress not found. Please update jupyter and ipywidgets. See https://ipywidgets.readthedocs.io/en/stable/user_install.html\n",
      "  from .autonotebook import tqdm as notebook_tqdm\n"
     ]
    }
   ],
   "source": [
    "import os\n",
    "import pandas as pd\n",
    "import gradio as gr\n",
    "\n",
    "file_word = pd.read_excel(\"doc/speaker_wordlist.xls\", sheet_name=\"Word_filename\")\n",
    "fw, wf = {}, {}\n",
    "for _, row in file_word.iterrows():\n",
    "    code = row[\"FILE NAME\"]\n",
    "    word = row[\"WORD\"]\n",
    "    wf[word] = code\n",
    "    fw[code] = word"
   ]
  },
  {
   "cell_type": "code",
   "execution_count": 2,
   "id": "b94e5a14-09d5-4528-9e52-ebc529619a44",
   "metadata": {},
   "outputs": [
    {
     "name": "stdout",
     "output_type": "stream",
     "text": [
      "B3_UW69\n"
     ]
    }
   ],
   "source": [
    "print(wf[\"equilibrium\"])"
   ]
  },
  {
   "cell_type": "code",
   "execution_count": 2,
   "id": "b94915df-6cae-47c8-baab-425f4dfa53bf",
   "metadata": {
    "ExecuteTime": {
     "end_time": "2023-11-25T22:10:18.574350Z",
     "start_time": "2023-11-25T22:10:17.825759Z"
    }
   },
   "outputs": [],
   "source": [
    "noisered_path = \"/data/zaki/UASpeech/audio/noisereduce\"\n",
    "participants = {}\n",
    "\n",
    "for p in os.listdir(noisered_path):\n",
    "    files = []\n",
    "    word_blocks = {}\n",
    "    for f in os.listdir(f\"{noisered_path}/{p}\"):\n",
    "        if not f.endswith('.wav') or f.startswith(\"._\"):\n",
    "            continue\n",
    "            \n",
    "        split = f.replace(f\"{p}_\", \"\").replace(\".wav\", \"\").split(\"_\")\n",
    "        block = split[0]\n",
    "        code = split[1]\n",
    "        mic = split[2]\n",
    "\n",
    "        code = f\"{block}_{code}\" if code.startswith(\"U\") else code\n",
    "        word = fw[code]\n",
    "        \n",
    "        if word_blocks.get(word) is None:\n",
    "            word_blocks[word] = { block : [mic] }\n",
    "        else:\n",
    "            if word_blocks[word].get(block) is None:\n",
    "                word_blocks[word][block] = [mic]\n",
    "            else:\n",
    "                word_blocks[word][block].append(mic)\n",
    "    participants[p] = word_blocks"
   ]
  },
  {
   "cell_type": "code",
   "execution_count": 3,
   "id": "73da14f1-de6f-4856-ba9d-abdbe66dd5c7",
   "metadata": {
    "ExecuteTime": {
     "end_time": "2023-11-25T22:29:56.235328Z",
     "start_time": "2023-11-25T22:29:46.596231Z"
    },
    "collapsed": false,
    "jupyter": {
     "outputs_hidden": false
    }
   },
   "outputs": [
    {
     "name": "stdout",
     "output_type": "stream",
     "text": [
      "Running on local URL:  http://127.0.0.1:7861\n",
      "Running on public URL: https://7840c350021fd85b99.gradio.live\n",
      "\n",
      "This share link expires in 72 hours. For free permanent hosting and GPU upgrades, run `gradio deploy` from Terminal to deploy to Spaces (https://huggingface.co/spaces)\n"
     ]
    },
    {
     "data": {
      "text/html": [
       "<div><iframe src=\"https://7840c350021fd85b99.gradio.live\" width=\"100%\" height=\"500\" allow=\"autoplay; camera; microphone; clipboard-read; clipboard-write;\" frameborder=\"0\" allowfullscreen></iframe></div>"
      ],
      "text/plain": [
       "<IPython.core.display.HTML object>"
      ]
     },
     "metadata": {},
     "output_type": "display_data"
    },
    {
     "data": {
      "text/plain": []
     },
     "execution_count": 3,
     "metadata": {},
     "output_type": "execute_result"
    },
    {
     "name": "stdout",
     "output_type": "stream",
     "text": [
      "['B2', 'B1', 'B3']\n",
      "['M8', 'M2', 'M4', 'M7', 'M5', 'M3', 'M6']\n",
      "/data/zaki/UASpeech/audio/noisereduce/F04/F04_B1_LA_M2.wav\n",
      "['B1', 'B3', 'B2']\n",
      "['M5', 'M3', 'M8', 'M2', 'M4', 'M6', 'M7']\n",
      "/data/zaki/UASpeech/audio/noisereduce/F04/F04_B3_CW30_M4.wav\n",
      "['B2', 'B3', 'B1']\n",
      "['M7', 'M6', 'M3', 'M5', 'M8']\n",
      "/data/zaki/UASpeech/audio/noisereduce/M04/M04_B1_LA_M3.wav\n",
      "['B3', 'B2', 'B1']\n",
      "/data/zaki/UASpeech/audio/noisereduce/M04/M04_B1_CW24_M5.wav\n",
      "/data/zaki/UASpeech/audio/noisereduce/M04/M04_B1_CW24_M3.wav\n",
      "['B2', 'B3', 'B1']\n",
      "['B1']\n",
      "/data/zaki/UASpeech/audio/noisereduce/M05/M05_B1_UW4_M6.wav\n",
      "/data/zaki/UASpeech/audio/noisereduce/M05/M05_B1_UW4_M7.wav\n"
     ]
    }
   ],
   "source": [
    "def play_audio(participant, word, block, mic):\n",
    "    if any([x is None for x in [participant, word, block, mic]]):\n",
    "        return None\n",
    "    code = wf[word]\n",
    "    file_path = f\"{noisered_path}/{participant}/{participant}_{code}_{mic}.wav\" if code.startswith(\"B\") else \\\n",
    "        f\"{noisered_path}/{participant}/{participant}_{block}_{code}_{mic}.wav\"\n",
    "    print(file_path)\n",
    "    return gr.update(value=file_path)\n",
    "\n",
    "def update_words(p):\n",
    "    if p is None:\n",
    "        return None\n",
    "    choices = sorted(list(participants[p].keys()))\n",
    "    return gr.update(choices=choices, value=choices[0])\n",
    "\n",
    "def update_blocks(p, w):\n",
    "    if any([p is None, w is None]):\n",
    "        return None\n",
    "    choices = sorted(list(participants[p][w].keys()))\n",
    "    print(list(participants[p][w].keys()))\n",
    "    return gr.update(choices=choices, value=choices[0])\n",
    "\n",
    "def update_mics(p, w, b):\n",
    "    if any([x is None for x in [p, w, b]]):\n",
    "        return None\n",
    "    choices = sorted(participants[p][w][b])\n",
    "    print(participants[p][w][b])\n",
    "    return gr.update(choices=choices, value=choices[0])\n",
    "    \n",
    "\n",
    "first_participant = \"CF02\"\n",
    "word_choices = sorted(list(participants[first_participant].keys()))\n",
    "\n",
    "first_word = word_choices[0]\n",
    "block_choices = sorted(list(participants[first_participant][first_word].keys()))\n",
    "\n",
    "first_block = list(participants[first_participant][first_word].keys())[0]\n",
    "\n",
    "mic_choices = sorted(participants[first_participant][first_word][first_block])\n",
    "first_mic = mic_choices[0]\n",
    "\n",
    "with gr.Blocks() as app:\n",
    "    with gr.Row():\n",
    "        participant_dropdown1 = gr.Dropdown(choices=sorted(list(participants.keys())), label=\"Select a Participant\")\n",
    "        participant_dropdown2 = gr.Dropdown(choices=sorted(list(participants.keys())), label=\"Select a Participant\")\n",
    "\n",
    "    with gr.Row():\n",
    "        word_dropdown1 = gr.Dropdown(choices=word_choices, label=\"Select word\")\n",
    "        word_dropdown2 = gr.Dropdown(choices=word_choices, label=\"Select word\")\n",
    "\n",
    "    with gr.Row():\n",
    "        block_dropdown1 = gr.Dropdown(choices=block_choices, label=\"Select block\")\n",
    "        block_dropdown2 = gr.Dropdown(choices=block_choices, label=\"Select block\")\n",
    "\n",
    "    with gr.Row():\n",
    "        mic_dropdown1 = gr.Dropdown(choices=mic_choices, label=\"Select mic\")\n",
    "        mic_dropdown2 = gr.Dropdown(choices=mic_choices, label=\"Select mic\")\n",
    "\n",
    "    with gr.Row():\n",
    "        audio_output1 = gr.Audio()\n",
    "        audio_output2 = gr.Audio()\n",
    "\n",
    "    participant_dropdown1.change(fn=update_words, inputs=participant_dropdown1, outputs=word_dropdown1)\n",
    "    word_dropdown1.change(fn=update_blocks, inputs=[participant_dropdown1, word_dropdown1], outputs=block_dropdown1)\n",
    "    block_dropdown1.change(fn=update_mics, inputs=[participant_dropdown1, word_dropdown1, block_dropdown1], outputs=mic_dropdown1)\n",
    "    mic_dropdown1.change(fn=play_audio, inputs=[participant_dropdown1, word_dropdown1, block_dropdown1, mic_dropdown1], outputs=audio_output1)\n",
    "\n",
    "    participant_dropdown2.change(fn=update_words, inputs=participant_dropdown2, outputs=word_dropdown2)\n",
    "    word_dropdown2.change(fn=update_blocks, inputs=[participant_dropdown2, word_dropdown2], outputs=block_dropdown2)\n",
    "    block_dropdown2.change(fn=update_mics, inputs=[participant_dropdown2, word_dropdown2, block_dropdown2], outputs=mic_dropdown2)\n",
    "    mic_dropdown2.change(fn=play_audio, inputs=[participant_dropdown2, word_dropdown2, block_dropdown2, mic_dropdown2], outputs=audio_output2)\n",
    "\n",
    "# Launch the interface. Use `inbrowser=True` to open it directly in the notebook.\n",
    "app.launch(inbrowser=True, share=True)"
   ]
  },
  {
   "cell_type": "code",
   "execution_count": 5,
   "id": "3f23a9e2-ccdb-419a-af55-d3295597c5e4",
   "metadata": {},
   "outputs": [
    {
     "data": {
      "text/plain": [
       "0"
      ]
     },
     "execution_count": 5,
     "metadata": {},
     "output_type": "execute_result"
    }
   ],
   "source": [
    "min((0,1,2))"
   ]
  }
 ],
 "metadata": {
  "kernelspec": {
   "display_name": "Python 3 (ipykernel)",
   "language": "python",
   "name": "python3"
  },
  "language_info": {
   "codemirror_mode": {
    "name": "ipython",
    "version": 3
   },
   "file_extension": ".py",
   "mimetype": "text/x-python",
   "name": "python",
   "nbconvert_exporter": "python",
   "pygments_lexer": "ipython3",
   "version": "3.8.17"
  }
 },
 "nbformat": 4,
 "nbformat_minor": 5
}
