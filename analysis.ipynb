{
 "cells": [
  {
   "cell_type": "code",
   "execution_count": 1,
   "id": "9c9b779e-664b-40b3-b218-42778dbecc53",
   "metadata": {},
   "outputs": [],
   "source": [
    "import os\n",
    "import pandas as pd\n",
    "import gradio as gr"
   ]
  },
  {
   "cell_type": "code",
   "execution_count": null,
   "id": "0287fe26-1761-4852-bdfb-5a5d3687d9c6",
   "metadata": {
    "ExecuteTime": {
     "end_time": "2023-11-25T20:35:11.072597Z",
     "start_time": "2023-11-25T20:35:11.002613Z"
    }
   },
   "outputs": [],
   "source": [
    "file_word = pd.read_excel(\"doc/speaker_wordlist.xls\", sheet_name=\"Word_filename\")\n",
    "# file_word\n",
    "\n",
    "fw, wf = {}, {}\n",
    "for _, row in file_word.iterrows():\n",
    "    code = row[\"FILE NAME\"]\n",
    "    word = row[\"WORD\"]\n",
    "    wf[word] = code\n",
    "    fw[code] = word"
   ]
  },
  {
   "cell_type": "code",
   "execution_count": 4,
   "id": "afe52c0d-dd6b-44c0-88de-55fb70a800dc",
   "metadata": {
    "ExecuteTime": {
     "end_time": "2023-11-25T22:10:18.574350Z",
     "start_time": "2023-11-25T22:10:17.825759Z"
    }
   },
   "outputs": [],
   "source": [
    "noisered_path = \"/data/zaki/UASpeech/audio/noisereduce\"\n",
    "participants = {}\n",
    "\n",
    "for p in os.listdir(noisered_path):\n",
    "    files = []\n",
    "    word_blocks = {}\n",
    "    for f in os.listdir(f\"{noisered_path}/{p}\"):\n",
    "        if not f.endswith('.wav') or f.startswith(\"._\"):\n",
    "            continue\n",
    "            \n",
    "        split = f.replace(f\"{p}_\", \"\").replace(\".wav\", \"\").split(\"_\")\n",
    "        block = split[0]\n",
    "        code = split[1]\n",
    "        mic = split[2]\n",
    "\n",
    "        code = f\"{block}_{code}\" if code.startswith(\"U\") else code\n",
    "        word = fw[code]\n",
    "        # print(word, block, code, mic)\n",
    "        if word_blocks.get(word) is None:\n",
    "            word_blocks[word] = { block : [mic] }\n",
    "        else:\n",
    "            if word_blocks[word].get(block) is None:\n",
    "                word_blocks[word][block] = [mic]\n",
    "            else:\n",
    "                word_blocks[word][block].append(mic)\n",
    "    participants[p] = word_blocks\n",
    "    # break\n",
    "# print(participants)"
   ]
  },
  {
   "cell_type": "code",
   "execution_count": 10,
   "id": "99dc54c8-e3cc-4e8e-bb3c-3697d38c72c0",
   "metadata": {
    "ExecuteTime": {
     "end_time": "2023-11-25T07:52:05.818293Z",
     "start_time": "2023-11-25T07:52:05.704692Z"
    }
   },
   "outputs": [
    {
     "data": {
      "text/html": [
       "\n",
       "                    <audio controls>\n",
       "                        <source src=\"data:audio/mpeg;base64,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\" type=\"audio/mpeg\"/>\n",
       "                        Your browser does not support the audio element.\n",
       "                    </audio>\n",
       "                  "
      ],
      "text/plain": [
       "<pydub.audio_segment.AudioSegment at 0x7efcd533c580>"
      ]
     },
     "execution_count": 10,
     "metadata": {},
     "output_type": "execute_result"
    }
   ],
   "source": [
    "audio = AudioSegment.from_file('/data/zaki/UASpeech/audio/noisereduce/CF02/CF02_B1_UW13_M6.wav')\n",
    "audio"
   ]
  },
  {
   "cell_type": "code",
   "execution_count": 171,
   "id": "bda728a7-2996-4d3c-bbf8-cb0c6cf89294",
   "metadata": {},
   "outputs": [],
   "source": [
    "s = audio.get_array_of_samples()"
   ]
  },
  {
   "cell_type": "code",
   "execution_count": 170,
   "id": "a9ff4c0a-4e61-4c9e-8ca5-03701d675cd2",
   "metadata": {},
   "outputs": [
    {
     "data": {
      "text/html": [
       "\n",
       "                    <audio controls>\n",
       "                        <source src=\"data:audio/mpeg;base64,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\" type=\"audio/mpeg\"/>\n",
       "                        Your browser does not support the audio element.\n",
       "                    </audio>\n",
       "                  "
      ],
      "text/plain": [
       "<pydub.audio_segment.AudioSegment at 0x7fef50367a90>"
      ]
     },
     "execution_count": 170,
     "metadata": {},
     "output_type": "execute_result"
    }
   ],
   "source": [
    "audio[:400]"
   ]
  },
  {
   "cell_type": "code",
   "execution_count": null,
   "id": "1d18f378-a5b3-4c06-8be3-56d4e3cf4973",
   "metadata": {},
   "outputs": [],
   "source": [
    "list(zip(range(0,650), s[:650]))"
   ]
  },
  {
   "cell_type": "code",
   "execution_count": 161,
   "id": "e50029f1-f49e-4125-94f7-7a7a0624043d",
   "metadata": {},
   "outputs": [
    {
     "data": {
      "text/html": [
       "\n",
       "                    <audio controls>\n",
       "                        <source src=\"data:audio/mpeg;base64,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\" type=\"audio/mpeg\"/>\n",
       "                        Your browser does not support the audio element.\n",
       "                    </audio>\n",
       "                  "
      ],
      "text/plain": [
       "<pydub.audio_segment.AudioSegment at 0x7fef38a59600>"
      ]
     },
     "execution_count": 161,
     "metadata": {},
     "output_type": "execute_result"
    }
   ],
   "source": [
    "audio[400:1650]"
   ]
  },
  {
   "cell_type": "code",
   "execution_count": null,
   "id": "dce80041-7e89-4014-b885-7f84ee6f7010",
   "metadata": {},
   "outputs": [],
   "source": [
    "list(zip(range(400,1650), s[400:1650]))"
   ]
  },
  {
   "cell_type": "code",
   "execution_count": null,
   "id": "02598220-7ee0-4182-8950-0d5be49ef19f",
   "metadata": {},
   "outputs": [],
   "source": [
    "orig_folders = {}\n",
    "normal_folders = {}\n",
    "participants = {}\n",
    "for x in os.listdir(orig_path):\n",
    "    # for f in os.listdir(f\"{orig_path}/{x}\"):\n",
    "    #     if f.endswith('.wav') and not f.startswith(\".\"):\n",
    "            \n",
    "    orig_folders[x] = [f for f in os.listdir(f\"{orig_path}/{x}\") if f.endswith('.wav') and not f.startswith(\"._\")]\n",
    "\n",
    "for x in os.listdir(normal_path):\n",
    "    normal_folders[x] = [f for f in os.listdir(f\"{normal_path}/{x}\") if f.endswith('.wav') and not f.startswith(\"._\")]\n",
    "\n",
    "for x in os.listdir(noisered_path):\n",
    "    participants[x] = [f for f in os.listdir(f\"{noisered_path}/{x}\") if f.endswith('.wav') and not f.startswith(\"._\")]"
   ]
  },
  {
   "cell_type": "code",
   "execution_count": 179,
   "id": "22c2a211-907c-434d-bad1-a92a42fa0e3e",
   "metadata": {},
   "outputs": [
    {
     "name": "stdout",
     "output_type": "stream",
     "text": [
      "28\n"
     ]
    }
   ],
   "source": [
    "print(len(orig_folders))"
   ]
  },
  {
   "cell_type": "code",
   "execution_count": 262,
   "id": "a03871b3-6b52-47e5-b97a-40074c274134",
   "metadata": {
    "ExecuteTime": {
     "end_time": "2023-11-25T16:08:54.690793Z",
     "start_time": "2023-11-25T16:08:54.653462Z"
    }
   },
   "outputs": [
    {
     "name": "stdout",
     "output_type": "stream",
     "text": [
      "['CF02', 'CF03', 'CF04', 'CF05', 'CM01', 'CM04', 'CM05', 'CM06', 'CM08', 'CM09', 'CM10', 'CM12', 'CM13']\n",
      "['F02', 'F03', 'F04', 'F05', 'M01', 'M04', 'M05', 'M07', 'M08', 'M09', 'M10', 'M11', 'M12', 'M14', 'M16']\n"
     ]
    }
   ],
   "source": [
    "print(sorted([x for x in orig_folders.keys() if x.startswith(\"C\")]))\n",
    "print(sorted([x for x in orig_folders.keys() if not x.startswith(\"C\")]))"
   ]
  },
  {
   "cell_type": "markdown",
   "id": "434e8348-8f9c-44f3-ae4a-ffd1b570c054",
   "metadata": {},
   "source": [
    "### Data Distribution"
   ]
  },
  {
   "cell_type": "markdown",
   "id": "766b89db-68e9-4839-825c-273fd5e4bb97",
   "metadata": {},
   "source": [
    "Possibilities of data split:\n",
    "\n",
    "- Male - Female (different F0)\n",
    "- Severity\n",
    "- From each person ()\n",
    "\n",
    "Additional guidance:\n",
    "- Severity\n",
    "\n",
    "Check\n",
    "- Impact of silence trim to accuracy\n",
    "- Impact of original, normalized, noise reduction to accuracy. Noise reduction was claimed to have better accurace, per readme."
   ]
  },
  {
   "cell_type": "markdown",
   "id": "e15dd48c-53a0-48eb-b898-fdd5610cf606",
   "metadata": {},
   "source": [
    "#### All data"
   ]
  },
  {
   "cell_type": "code",
   "execution_count": null,
   "id": "d4541355-450a-4b9f-8361-579a5968164e",
   "metadata": {
    "ExecuteTime": {
     "end_time": "2023-11-25T16:08:17.255939Z",
     "start_time": "2023-11-25T16:08:16.987758Z"
    },
    "editable": true,
    "slideshow": {
     "slide_type": ""
    },
    "tags": []
   },
   "outputs": [],
   "source": [
    "wc = {}\n",
    "mwc = {}\n",
    "fwc = {}\n",
    "for p,v in participants.items():\n",
    "    if p.startswith(\"C\"):\n",
    "        continue\n",
    "    files = []\n",
    "    for f in v:\n",
    "        files.append(f.replace(f\"{p}_\", \"\").replace(\".wav\", \"\"))\n",
    "    # for f in sorted(files):\n",
    "    #     print(f)\n",
    "    for f in sorted(files):\n",
    "        split = f.split(\"_\")\n",
    "        code = \"_\".join(split[:-1]) if split[1].startswith(\"UW\") else split[1]\n",
    "        word = fw[code]\n",
    "    #     if not split[1].startswith(\"UW\"):\n",
    "    #         print(f)\n",
    "    # break\n",
    "        if wc.get(word) is None:\n",
    "            wc[word] = 1\n",
    "        else:\n",
    "            wc[word] = wc[word] + 1\n",
    "        # print(f, fw.get(code))\n",
    "        if p.startswith(\"M\"):\n",
    "            if mwc.get(word) is None:\n",
    "                mwc[word] = 1\n",
    "            else:\n",
    "                mwc[word] = mwc[word] + 1\n",
    "        if p.startswith(\"F\"):\n",
    "            if fwc.get(word) is None:\n",
    "                fwc[word] = 1\n",
    "            else:\n",
    "                fwc[word] = fwc[word] + 1\n",
    "for p in wc.keys():\n",
    "    print(p, mwc[p], fwc[p])"
   ]
  },
  {
   "cell_type": "markdown",
   "id": "2fed533812d1abca",
   "metadata": {
    "collapsed": false,
    "jupyter": {
     "outputs_hidden": false
    }
   },
   "source": [
    "Check distribution of blocks for each word"
   ]
  },
  {
   "cell_type": "code",
   "execution_count": null,
   "id": "5977c3ae383d1578",
   "metadata": {
    "ExecuteTime": {
     "end_time": "2023-11-25T16:25:21.359356Z",
     "start_time": "2023-11-25T16:25:21.186349Z"
    },
    "collapsed": false,
    "jupyter": {
     "outputs_hidden": false
    }
   },
   "outputs": [],
   "source": [
    "wb = {}\n",
    "for p,v in participants.items():\n",
    "    if p.startswith(\"C\"):\n",
    "        continue\n",
    "    files = []\n",
    "    for f in v:\n",
    "        files.append(f.replace(f\"{p}_\", \"\").replace(\".wav\", \"\"))\n",
    "    for f in sorted(files):\n",
    "        split = f.split(\"_\")\n",
    "        code = \"_\".join(split[:-1]) if split[1].startswith(\"UW\") else split[1]\n",
    "        word = fw[code]\n",
    "        if wb.get(word) is None:\n",
    "            wb[word] = [split[0]]\n",
    "        else:\n",
    "            wb[word].append(split[0])\n",
    "for p in wb.keys():\n",
    "    print(p, set(wb[p]))"
   ]
  },
  {
   "cell_type": "markdown",
   "id": "18d267164dbf1147",
   "metadata": {
    "collapsed": false,
    "jupyter": {
     "outputs_hidden": false
    }
   },
   "source": [
    "All common words, digits, and letters have B1, B2, B3 blocks. All uncommon words have only one of them.\n",
    "Check distribution of each blocks."
   ]
  },
  {
   "cell_type": "code",
   "execution_count": null,
   "id": "9519c038e6062576",
   "metadata": {
    "ExecuteTime": {
     "end_time": "2023-11-25T18:14:16.167649Z",
     "start_time": "2023-11-25T18:14:15.925321Z"
    },
    "collapsed": false,
    "jupyter": {
     "outputs_hidden": false
    }
   },
   "outputs": [],
   "source": [
    "wbc = {}\n",
    "for p,v in participants.items():\n",
    "    if p.startswith(\"C\"):\n",
    "        continue\n",
    "    files = []\n",
    "    \n",
    "    for f in v:\n",
    "        files.append(f.replace(f\"{p}_\", \"\").replace(\".wav\", \"\"))\n",
    "        \n",
    "    for f in sorted(files):\n",
    "        split = f.split(\"_\")\n",
    "        code = \"_\".join(split[:-1]) if split[1].startswith(\"UW\") else split[1]\n",
    "        block = split[0]\n",
    "        word = fw[code]\n",
    "        if wb.get(word) is None:\n",
    "            wb[word] = { block : 1 }\n",
    "        else:\n",
    "            if wb[word].get(block) is None:\n",
    "                wb[word][block] = 1\n",
    "            else:\n",
    "                wb[word][block] += 1 \n",
    "for p in wb.keys():\n",
    "    print(p, wb[p])\n",
    "    \n",
    "# xxx = pd.DataFrame(wb).transpose()\n",
    "# xxx"
   ]
  },
  {
   "cell_type": "markdown",
   "id": "712336001c6acca4",
   "metadata": {
    "collapsed": false,
    "jupyter": {
     "outputs_hidden": false
    }
   },
   "source": [
    "Distribution of each blocks looks fine"
   ]
  },
  {
   "cell_type": "code",
   "execution_count": null,
   "id": "4bbb95d38a8fe8ba",
   "metadata": {
    "collapsed": false,
    "jupyter": {
     "outputs_hidden": false
    }
   },
   "outputs": [],
   "source": [
    "wc = {}\n",
    "mwc = {}\n",
    "fwc = {}\n",
    "for p,v in participants.items():\n",
    "    if p.startswith(\"C\"):\n",
    "        continue\n",
    "    files = []\n",
    "    for f in v:\n",
    "        files.append(f.replace(f\"{p}_\", \"\").replace(\".wav\", \"\"))\n",
    "    # for f in sorted(files):\n",
    "    #     print(f)\n",
    "    for f in sorted(files):\n",
    "        split = f.split(\"_\")\n",
    "        code = \"_\".join(split[:-1]) if split[1].startswith(\"UW\") else split[1]\n",
    "        word = fw[code]\n",
    "        #     if not split[1].startswith(\"UW\"):\n",
    "        #         print(f)\n",
    "        # break\n",
    "        if wc.get(word) is None:\n",
    "            wc[word] = 1\n",
    "        else:\n",
    "            wc[word] = wc[word] + 1\n",
    "        # print(f, fw.get(code))\n",
    "        if p.startswith(\"M\"):\n",
    "            if mwc.get(word) is None:\n",
    "                mwc[word] = 1\n",
    "            else:\n",
    "                mwc[word] = mwc[word] + 1\n",
    "        if p.startswith(\"F\"):\n",
    "            if fwc.get(word) is None:\n",
    "                fwc[word] = 1\n",
    "            else:\n",
    "                fwc[word] = fwc[word] + 1\n",
    "for p in wc.keys():\n",
    "    print(p, mwc[p], fwc[p])"
   ]
  },
  {
   "cell_type": "markdown",
   "id": "bc8b31428773a66f",
   "metadata": {
    "collapsed": false,
    "jupyter": {
     "outputs_hidden": false
    }
   },
   "source": [
    "### Data Preparations"
   ]
  },
  {
   "cell_type": "markdown",
   "id": "e827ee1df21073a8",
   "metadata": {
    "collapsed": false,
    "jupyter": {
     "outputs_hidden": false
    }
   },
   "source": [
    "Take from each person and words "
   ]
  },
  {
   "cell_type": "markdown",
   "id": "a5bf26cd2c3abbae",
   "metadata": {
    "collapsed": false,
    "jupyter": {
     "outputs_hidden": false
    }
   },
   "source": [
    "Extract labels"
   ]
  },
  {
   "cell_type": "code",
   "execution_count": null,
   "id": "88e16cd34f0b68fb",
   "metadata": {
    "collapsed": false,
    "jupyter": {
     "outputs_hidden": false
    }
   },
   "outputs": [],
   "source": [
    "word_files = {}\n",
    "for p,v in participants.items():\n",
    "    if p.startswith(\"C\"):\n",
    "        continue\n",
    "    files = []\n",
    "    for f in v:\n",
    "        files.append(f.replace(f\"{p}_\", \"\").replace(\".wav\", \"\"))\n",
    "    # for f in sorted(files):\n",
    "    #     print(f)\n",
    "    for f in sorted(files):\n",
    "        split = f.split(\"_\")\n",
    "        code = \"_\".join(split[:-1]) if split[1].startswith(\"UW\") else split[1]\n",
    "        word = fw[code]\n",
    "        if "
   ]
  },
  {
   "cell_type": "code",
   "execution_count": 16,
   "id": "ef3545ef-38f2-4d24-ad6a-30320b7cc98c",
   "metadata": {},
   "outputs": [
    {
     "name": "stdout",
     "output_type": "stream",
     "text": [
      "160\n",
      "Contains speech: False\n",
      "CF02 None None None\n",
      "['B3', 'B2', 'B1']\n",
      "['M5', 'M8', 'M7', 'M6', 'M3', 'M2', 'M4']\n",
      "CF02 Alpha B1 M2\n",
      "/data/zaki/UASpeech/audio/noisereduce/CF02/CF02_B1_LA_M2.wav\n",
      "['B1']\n",
      "[] None None None\n",
      "['B3', 'B1', 'B2']\n",
      "['M2', 'M5', 'M8', 'M3', 'M7', 'M4', 'M6']\n",
      "F02 Alpha B1 M2\n",
      "/data/zaki/UASpeech/audio/noisereduce/F02/F02_B1_LA_M2.wav\n",
      "['B1']\n",
      "F02 banana B1 M3\n",
      "/data/zaki/UASpeech/audio/noisereduce/F02/F02_B1_UW94_M3.wav\n",
      "CF02 banana B1 M3\n",
      "/data/zaki/UASpeech/audio/noisereduce/CF02/CF02_B1_UW94_M3.wav\n",
      "F02 banana B1 M5\n",
      "/data/zaki/UASpeech/audio/noisereduce/F02/F02_B1_UW94_M5.wav\n"
     ]
    }
   ],
   "source": []
  }
 ],
 "metadata": {
  "kernelspec": {
   "display_name": "Python 3 (ipykernel)",
   "language": "python",
   "name": "python3"
  },
  "language_info": {
   "codemirror_mode": {
    "name": "ipython",
    "version": 3
   },
   "file_extension": ".py",
   "mimetype": "text/x-python",
   "name": "python",
   "nbconvert_exporter": "python",
   "pygments_lexer": "ipython3",
   "version": "3.9.18"
  }
 },
 "nbformat": 4,
 "nbformat_minor": 5
}
